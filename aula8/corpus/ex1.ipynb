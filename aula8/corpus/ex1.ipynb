{
 "cells": [
  {
   "cell_type": "code",
   "execution_count": 14,
   "metadata": {},
   "outputs": [],
   "source": [
    "import re\n",
    "\n",
    "harry1 = open(\"Harry_Potter_e_a_camara_dos_segredos.txt\",\"r\")\n",
    "harry2 = open(\"Harry_Potter_e_a_pedra_filosofal-ptpt.txt\")\n",
    "harry3 = open(\"harry_potter_e_o_calice_de_fogo-J._K._Rowling.txt\") \n",
    "harry4 = open(\"harry_potter_e_o_enigma_do_principe-J._K._Rowling.txt\")\n",
    "\n",
    "txt = [harry1.read(),harry2.read(),harry3.read(),harry4.read()]\n",
    "\n",
    "txt = [item.replace(\"\\n,;:\",\" \") for item in txt]\n",
    "\n",
    "vector = []\n",
    "for livro in txt:\n",
    "    for line in livro.split(\".\"):\n",
    "        vector.append([x.strip() for x in line.split(\" \")])\n",
    "\n"
   ]
  },
  {
   "cell_type": "code",
   "execution_count": 15,
   "metadata": {},
   "outputs": [
    {
     "name": "stdout",
     "output_type": "stream",
     "text": [
      "[('idade', 0.9445071220397949), ('usar', 0.9353689551353455), ('dezessete', 0.9319307208061218), ('escola', 0.9279369115829468), ('amanhã', 0.9246692061424255), ('Hogwarts,', 0.924272894859314), ('família', 0.9241178035736084), ('enfrentar', 0.9215624332427979), ('informações', 0.9199827909469604), ('receber', 0.9191811680793762)]\n"
     ]
    }
   ],
   "source": [
    "from gensim.models import Word2Vec\n",
    "\n",
    "model = Word2Vec(vector,vector_size=100,window=5,min_count=1,sg=1,epochs=5,workers=3)\n",
    "#model.save('models/word2vec.model')\n",
    "\n",
    "print(model.wv.most_similar(\"magia\",topn=10))"
   ]
  }
 ],
 "metadata": {
  "kernelspec": {
   "display_name": "Python 3",
   "language": "python",
   "name": "python3"
  },
  "language_info": {
   "codemirror_mode": {
    "name": "ipython",
    "version": 3
   },
   "file_extension": ".py",
   "mimetype": "text/x-python",
   "name": "python",
   "nbconvert_exporter": "python",
   "pygments_lexer": "ipython3",
   "version": "3.10.10"
  },
  "orig_nbformat": 4
 },
 "nbformat": 4,
 "nbformat_minor": 2
}
