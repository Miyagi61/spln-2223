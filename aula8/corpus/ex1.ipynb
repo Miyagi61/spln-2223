{
 "cells": [
  {
   "cell_type": "code",
   "execution_count": 2,
   "metadata": {},
   "outputs": [],
   "source": [
    "import re\n",
    "import gensim\n",
    "\n",
    "harry1 = open(\"Harry_Potter_e_a_camara_dos_segredos.txt\",\"r\")\n",
    "harry2 = open(\"Harry_Potter_e_a_pedra_filosofal-ptpt.txt\",\"r\")\n",
    "harry3 = open(\"harry_potter_e_o_calice_de_fogo-J._K._Rowling.txt\",\"r\") \n",
    "harry4 = open(\"harry_potter_e_o_enigma_do_principe-J._K._Rowling.txt\",\"r\")\n",
    "\n",
    "txt = [harry1.read(),harry2.read(),harry3.read(),harry4.read()]\n",
    "\n",
    "txt = [item.replace(\"\\n,;:\",\" \") for item in txt]\n",
    "\n",
    "vector = []\n",
    "for livro in txt:\n",
    "    for line in livro.split(\".\"):\n",
    "        #vector.append([x.strip() for x in line.split(\" \")])\n",
    "        vector.append(list(gensim.utils.tokenize(line,lower=True)))\n",
    "\n"
   ]
  },
  {
   "cell_type": "code",
   "execution_count": 3,
   "metadata": {},
   "outputs": [],
   "source": [
    "from gensim.models import Word2Vec\n",
    "\n",
    "model = Word2Vec(vector,vector_size=100,window=5,min_count=1,sg=1,epochs=5,workers=3)\n",
    "#model.save('models/word2vec.model')"
   ]
  },
  {
   "cell_type": "code",
   "execution_count": 4,
   "metadata": {},
   "outputs": [
    {
     "name": "stdout",
     "output_type": "stream",
     "text": [
      "[('gina', 0.7933387756347656), ('fleur', 0.7709071636199951), ('percy', 0.7606359720230103), ('rony', 0.7550733089447021), ('dino', 0.7542624473571777), ('lilá', 0.7526652216911316), ('simas', 0.7506701946258545), ('parvati', 0.7403907179832458), ('neville', 0.7399706840515137), ('carlinhos', 0.7281920909881592)]\n"
     ]
    }
   ],
   "source": [
    "print(model.wv.most_similar(\"hermione\",topn=10))"
   ]
  },
  {
   "cell_type": "code",
   "execution_count": 28,
   "metadata": {},
   "outputs": [],
   "source": [
    "model.save_word2vec_format('modelo_harry')"
   ]
  },
  {
   "cell_type": "code",
   "execution_count": 13,
   "metadata": {},
   "outputs": [
    {
     "name": "stdout",
     "output_type": "stream",
     "text": [
      "corvinal : [('fundos', 0.9576364755630493), ('dirigiram', 0.9492465257644653), ('sonserina', 0.9438719153404236), ('plataforma', 0.9438548684120178), ('orla', 0.9433425068855286), ('carruagem', 0.9420823454856873), ('beauxbatons', 0.9410982131958008), ('troféus', 0.9397364854812622), ('grifinoria', 0.9388303160667419), ('camarata', 0.9307011365890503)]\n",
      "grifinoria : [('camarata', 0.9735624194145203), ('sessenta', 0.9705316424369812), ('estufa', 0.9703392386436462), ('vizinha', 0.9690865874290466), ('montanha', 0.9685433506965637), ('beira', 0.9670420289039612), ('aglomeração', 0.9658486843109131), ('restante', 0.965714156627655), ('estrada', 0.9642930030822754), ('fresta', 0.9636673927307129)]\n",
      "sonserina : [('corvinal', 0.9438719153404236), ('restante', 0.9411131143569946), ('beauxbatons', 0.9375637769699097), ('proibida', 0.9353386759757996), ('turma', 0.9272016286849976), ('fila', 0.9258477091789246), ('fundos', 0.9221476912498474), ('grifinoria', 0.9185439944267273), ('grifinória', 0.9185261130332947), ('carruagem', 0.9167793989181519)]\n",
      "lufa : [('corvinal', 0.8829072713851929), ('bulgária', 0.851072371006012), ('orla', 0.8488128185272217), ('proibida', 0.8448428511619568), ('beauxbatons', 0.8369181156158447), ('sonserina', 0.8330873847007751), ('massa', 0.8327895998954773), ('troféus', 0.8289256691932678), ('quinta', 0.8219893574714661), ('grifinória', 0.8174448609352112)]\n"
     ]
    }
   ],
   "source": [
    "escolas = ['corvinal','grifinoria','sonserina','lufa']\n",
    "for escola in escolas:\n",
    "    print(escola,\":\",model.wv.distance(\"harry\",))\n"
   ]
  },
  {
   "cell_type": "code",
   "execution_count": 8,
   "metadata": {},
   "outputs": [
    {
     "data": {
      "text/plain": [
       "0.43000662326812744"
      ]
     },
     "execution_count": 8,
     "metadata": {},
     "output_type": "execute_result"
    }
   ],
   "source": [
    "model.wv.distance(\"harry\",\"grifinoria\")"
   ]
  },
  {
   "cell_type": "code",
   "execution_count": 9,
   "metadata": {},
   "outputs": [
    {
     "data": {
      "text/plain": [
       "0.488572895526886"
      ]
     },
     "execution_count": 9,
     "metadata": {},
     "output_type": "execute_result"
    }
   ],
   "source": [
    "model.wv.distance(\"harry\",\"sonserina\")"
   ]
  },
  {
   "cell_type": "code",
   "execution_count": 12,
   "metadata": {},
   "outputs": [
    {
     "data": {
      "text/plain": [
       "0.7261669337749481"
      ]
     },
     "execution_count": 12,
     "metadata": {},
     "output_type": "execute_result"
    }
   ],
   "source": [
    "model.wv.distance(\"harry\",\"lufa\")"
   ]
  }
 ],
 "metadata": {
  "kernelspec": {
   "display_name": "Python 3",
   "language": "python",
   "name": "python3"
  },
  "language_info": {
   "codemirror_mode": {
    "name": "ipython",
    "version": 3
   },
   "file_extension": ".py",
   "mimetype": "text/x-python",
   "name": "python",
   "nbconvert_exporter": "python",
   "pygments_lexer": "ipython3",
   "version": "3.10.10"
  },
  "orig_nbformat": 4
 },
 "nbformat": 4,
 "nbformat_minor": 2
}
