{
 "cells": [
  {
   "cell_type": "code",
   "execution_count": null,
   "metadata": {},
   "outputs": [],
   "source": [
    "from gensim.models import Word2Vec\n",
    "\n",
    "# define training data\n",
    "\n",
    "sentences = [['this','is','the','first','sentence','for','word2vec'],\n",
    "             ['this','is','the','second','sentence'],\n",
    "             ['yet','another','sentence'],\n",
    "             ['one','more','sentence'],\n",
    "             ['and','the','final','sentence']]\n",
    "\n",
    "\n",
    "model = Word2Vec(sentences,vector_size=100,window=5,min_count=1,sg=1,epochs=5,workers=3)\n",
    "model.save('models/word2vec.model')"
   ]
  },
  {
   "cell_type": "code",
   "execution_count": null,
   "metadata": {},
   "outputs": [],
   "source": [
    "print(model.wv['sentence'])"
   ]
  },
  {
   "cell_type": "code",
   "execution_count": null,
   "metadata": {},
   "outputs": [],
   "source": [
    "model = Word2Vec.load('word2vec.model')\n",
    "\n",
    "get_word('Advanced')\n",
    "\n",
    "more_sentences= [\n",
    "    ['']\n",
    "]"
   ]
  }
 ],
 "metadata": {
  "kernelspec": {
   "display_name": "Python 3",
   "language": "python",
   "name": "python3"
  },
  "language_info": {
   "name": "python",
   "version": "3.10.10"
  },
  "orig_nbformat": 4
 },
 "nbformat": 4,
 "nbformat_minor": 2
}
